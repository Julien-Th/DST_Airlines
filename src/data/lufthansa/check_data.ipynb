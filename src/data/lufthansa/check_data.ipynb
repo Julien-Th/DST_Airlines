{
 "cells": [
  {
   "cell_type": "code",
   "execution_count": 1,
   "metadata": {},
   "outputs": [],
   "source": [
    "# Libraries\n",
    "import json\n",
    "import pandas as pd"
   ]
  },
  {
   "cell_type": "code",
   "execution_count": 2,
   "metadata": {},
   "outputs": [],
   "source": [
    "# Countries data : from JSON to dataframe\n",
    "# Ouverture du fichier JSON\n",
    "with open('/home/ubuntu/DST_Airlines/data/lufthansa/countries.json', 'r') as f:\n",
    "    countries = json.load(f)"
   ]
  },
  {
   "cell_type": "code",
   "execution_count": 3,
   "metadata": {},
   "outputs": [
    {
     "name": "stdout",
     "output_type": "stream",
     "text": [
      "{'CountryCode': 'AF', 'Names': {'Name': [{'@LanguageCode': 'DE', '$': 'Afghanistan'}, {'@LanguageCode': 'EL', '$': '??????????'}, {'@LanguageCode': 'EN', '$': 'Afghanistan'}, {'@LanguageCode': 'ES', '$': 'Afganistán'}, {'@LanguageCode': 'FI', '$': 'Afghanistan'}, {'@LanguageCode': 'FR', '$': 'Afghanistan'}, {'@LanguageCode': 'HR', '$': 'Afganistan'}, {'@LanguageCode': 'HU', '$': 'Afghanistan'}, {'@LanguageCode': 'IT', '$': 'Afghanistan'}, {'@LanguageCode': 'JA', '$': 'Afghanistan'}, {'@LanguageCode': 'KA', '$': 'Afghanistan'}, {'@LanguageCode': 'KO', '$': 'Afghanistan'}, {'@LanguageCode': 'PL', '$': 'Afganistan'}, {'@LanguageCode': 'PT', '$': 'Afeganistão'}, {'@LanguageCode': 'RU', '$': 'Afghanistan'}, {'@LanguageCode': 'SL', '$': 'Afghanistan'}, {'@LanguageCode': 'TR', '$': 'Afganistan'}]}}\n",
      "{'CountryCode': 'AG', 'Names': {'Name': {'@LanguageCode': 'EN', '$': 'Antigua And Barbuda, Leeward Islands'}}}\n"
     ]
    }
   ],
   "source": [
    "print(countries[2])\n",
    "print(countries[3])"
   ]
  },
  {
   "cell_type": "code",
   "execution_count": 4,
   "metadata": {},
   "outputs": [
    {
     "name": "stdout",
     "output_type": "stream",
     "text": [
      "     CountryCode LanguageCode           Name\n",
      "0             AD           DE        Andorra\n",
      "1             AD           EL        ???????\n",
      "2             AD           EN        Andorra\n",
      "3             AD           ES        Andorra\n",
      "4             AD           FI        Andorra\n",
      "...          ...          ...            ...\n",
      "3294          ZW           PL       Zimbabwe\n",
      "3295          ZW           PT       Zimbabwe\n",
      "3296          ZW           RU       Zimbabwe\n",
      "3297          ZW           SL  Zimbabwe (sl)\n",
      "3298          ZW           TR       Zimbabve\n",
      "\n",
      "[3299 rows x 3 columns]\n"
     ]
    }
   ],
   "source": [
    "# Liste pour stocker les données sous forme de tuples (CountryCode, LanguageCode, Name)\n",
    "records = []\n",
    "index=0\n",
    "\n",
    "# Parcours du JSON pour extraire les informations pertinentes\n",
    "for country in countries:\n",
    "    index +=1\n",
    "    country_code = country[\"CountryCode\"]\n",
    "\n",
    "    # Vérifier si 'Names' existe et si c'est une liste ou un dictionnaire\n",
    "    if \"Names\" in country:\n",
    "        names = country[\"Names\"]\n",
    "        \n",
    "        # Si 'Names' est un dictionnaire avec une clé \"Name\"\n",
    "        if isinstance(names, dict) and \"Name\" in names:\n",
    "            name_info = names[\"Name\"]\n",
    "            # Si 'Name' est une liste\n",
    "            if isinstance(name_info, list):\n",
    "                for name_item in name_info:\n",
    "                    language_code = name_item.get(\"@LanguageCode\", \"\")\n",
    "                    name = name_item.get(\"$\", \"\")\n",
    "                    records.append((country_code, language_code, name))\n",
    "            # Si 'Name' est un dictionnaire\n",
    "            elif isinstance(name_info, dict):\n",
    "                language_code = name_info.get(\"@LanguageCode\", \"\")\n",
    "                name = name_info.get(\"$\", \"\")\n",
    "                records.append((country_code, language_code, name))\n",
    "            \n",
    "            else:\n",
    "                print(\"Name isn't a dict or a list for\",country_code,\"index\",index)\n",
    "        \n",
    "        # Si \"Names\" est déjà une liste\n",
    "        elif isinstance(names, list):\n",
    "            for name_info in names:\n",
    "                # Vérification que 'name_info' est bien un dictionnaire\n",
    "                if isinstance(name_info, dict):\n",
    "                    language_code = name_info.get(\"@LanguageCode\", \"\")\n",
    "                    name = name_info.get(\"$\", \"\")\n",
    "                    records.append((country_code, language_code, name))\n",
    "                else :\n",
    "                    print(\"name_info isn't a dict for\",country_code,\"index\",index)\n",
    "\n",
    "        else :\n",
    "            print(\"Names isn't a dict or a list for\",country_code,\"index\",index)\n",
    "\n",
    "    else:\n",
    "        print(\"Names not in country for\",country_code,\"index\",index)\n",
    "\n",
    "# Création d'un DataFrame avec les données extraites\n",
    "df_countries = pd.DataFrame(records, columns=[\"CountryCode\", \"LanguageCode\", \"Name\"])\n",
    "\n",
    "# Afficher le DataFrame\n",
    "print(df_countries)\n"
   ]
  },
  {
   "cell_type": "code",
   "execution_count": 5,
   "metadata": {},
   "outputs": [
    {
     "name": "stdout",
     "output_type": "stream",
     "text": [
      "\n",
      "Aucun CountryCode n'a été perdu.\n"
     ]
    }
   ],
   "source": [
    "# Filtre pour ne garder que les Names en anglais\n",
    "df_countries_en = df_countries[df_countries['LanguageCode'] == 'EN']\n",
    "\n",
    "# Vérification qu'aucun CountryCode n'a été perdu\n",
    "country_codes_all = df_countries['CountryCode'].unique()\n",
    "country_codes_en = df_countries['CountryCode'].unique()\n",
    "\n",
    "missing_country_codes = set(country_codes_all) - set(country_codes_en)\n",
    "if missing_country_codes:\n",
    "    print(f\"Les CountryCodes suivants ont été perdus : {missing_country_codes}\")\n",
    "else:\n",
    "    print(\"\\nAucun CountryCode n'a été perdu.\")\n"
   ]
  },
  {
   "cell_type": "code",
   "execution_count": 6,
   "metadata": {},
   "outputs": [
    {
     "name": "stdout",
     "output_type": "stream",
     "text": [
      "<bound method NDFrame.head of      CountryCode CountryLanguageCode                           CountryName\n",
      "2             AD                  EN                               Andorra\n",
      "19            AE                  EN                  United Arab Emirates\n",
      "37            AF                  EN                           Afghanistan\n",
      "52            AG                  EN  Antigua And Barbuda, Leeward Islands\n",
      "53            AI                  EN             Anguilla, Leeward Islands\n",
      "...          ...                 ...                                   ...\n",
      "3215          YE                  EN                                 Yemen\n",
      "3232          YT                  EN                               Mayotte\n",
      "3249          ZA                  EN                          South Africa\n",
      "3267          ZM                  EN                                Zambia\n",
      "3284          ZW                  EN                              Zimbabwe\n",
      "\n",
      "[239 rows x 3 columns]>\n"
     ]
    }
   ],
   "source": [
    "# Renomme les colonnes\n",
    "df_countries_en = df_countries_en.rename(columns={'Name': 'CountryName'})\n",
    "df_countries_en = df_countries_en.rename(columns={'LanguageCode': 'CountryLanguageCode'})\n",
    "print(df_countries_en.head)\n"
   ]
  },
  {
   "cell_type": "code",
   "execution_count": 7,
   "metadata": {},
   "outputs": [],
   "source": [
    "# Cities data : from JSON to dataframe\n",
    "# Ouverture du fichier JSON\n",
    "with open('/home/ubuntu/DST_Airlines/data/lufthansa/cities.json', 'r') as f:\n",
    "    cities = json.load(f)"
   ]
  },
  {
   "cell_type": "code",
   "execution_count": 8,
   "metadata": {},
   "outputs": [
    {
     "name": "stdout",
     "output_type": "stream",
     "text": [
      "       CityCode CountryCode LanguageCode        Name\n",
      "0           AAA          PF           BG        Anaa\n",
      "1           AAA          PF           CS        Anaa\n",
      "2           AAA          PF           DE        Anaa\n",
      "3           AAA          PF           EL        ??a?\n",
      "4           AAA          PF           EN        Anaa\n",
      "...         ...         ...          ...         ...\n",
      "101251      ZZV          US           IT  Zanesville\n",
      "101252      ZZV          US           RO  Zanesville\n",
      "101253      ZZV          US           SV  Zanesville\n",
      "101254      ZZV          US           TR  Zanesville\n",
      "101255      ZZV          US           UK  Zanesville\n",
      "\n",
      "[101256 rows x 4 columns]\n"
     ]
    }
   ],
   "source": [
    "# Liste pour stocker les données sous forme de tuples (CityCode,CountryCode, LanguageCode, Name)\n",
    "records = []\n",
    "index=0\n",
    "\n",
    "# Parcours du JSON pour extraire les informations pertinentes\n",
    "for city in cities:\n",
    "    index +=1\n",
    "    country_code = city[\"CountryCode\"]\n",
    "    city_code = city[\"CityCode\"]\n",
    "\n",
    "    # Vérifier si 'Names' existe et si c'est une liste ou un dictionnaire\n",
    "    if \"Names\" in city:\n",
    "        names = city[\"Names\"]\n",
    "        \n",
    "        # Si 'Names' est un dictionnaire avec une clé \"Name\"\n",
    "        if isinstance(names, dict) and \"Name\" in names:\n",
    "            name_info = names[\"Name\"]\n",
    "            # Si 'Name' est une liste, traiter comme une liste normale\n",
    "            if isinstance(name_info, list):\n",
    "                for name_item in name_info:\n",
    "                    language_code = name_item.get(\"@LanguageCode\", \"\")\n",
    "                    name = name_item.get(\"$\", \"\")\n",
    "                    records.append((city_code,country_code, language_code, name))\n",
    "            # Si 'Name' est un dictionnaire (cas particulier)\n",
    "            elif isinstance(name_info, dict):\n",
    "                language_code = name_info.get(\"@LanguageCode\", \"\")\n",
    "                name = name_info.get(\"$\", \"\")\n",
    "                records.append((city_code,country_code, language_code, name))\n",
    "            \n",
    "            else:\n",
    "                print(\"Name isn't a dict or a list for\",city_code,\"index\",index)\n",
    "        \n",
    "        # Si \"Names\" est déjà une liste\n",
    "        elif isinstance(names, list):\n",
    "            for name_info in names:\n",
    "                # Vérification que 'name_info' est bien un dictionnaire\n",
    "                if isinstance(name_info, dict):\n",
    "                    language_code = name_info.get(\"@LanguageCode\", \"\")\n",
    "                    name = name_info.get(\"$\", \"\")\n",
    "                    records.append((city_code,country_code, language_code, name))\n",
    "                else :\n",
    "                    print(\"name_info isn't a dict for\",city_code,\"index\",index)\n",
    "\n",
    "        else :\n",
    "            print(\"Names isn't a dict or a list for\",city_code,\"index\",index)\n",
    "\n",
    "    else:\n",
    "        print(\"Names not in city for\",city_code)\n",
    "\n",
    "# Création d'un DataFrame avec les données extraites\n",
    "df_cities = pd.DataFrame(records, columns=[\"CityCode\",\"CountryCode\", \"LanguageCode\", \"Name\"])\n",
    "\n",
    "# Afficher le DataFrame\n",
    "print(df_cities)\n"
   ]
  },
  {
   "cell_type": "code",
   "execution_count": 9,
   "metadata": {},
   "outputs": [
    {
     "name": "stdout",
     "output_type": "stream",
     "text": [
      "Aucun CityCode n'a été perdu.\n"
     ]
    }
   ],
   "source": [
    "# Filtre pour ne garder que les Names en anglais\n",
    "df_cities_en = df_cities[df_cities['LanguageCode'] == 'EN']\n",
    "\n",
    "# Vérifier qu'aucun CountryCode n'a été perdu\n",
    "city_codes_all = df_cities['CityCode'].unique()\n",
    "city_codes_en = df_cities['CityCode'].unique()\n",
    "\n",
    "# Vérifier si des CityCodes ont été perdus\n",
    "missing_city_codes = set(city_codes_all) - set(city_codes_en)\n",
    "if missing_city_codes:\n",
    "    print(f\"Les CityCodes suivants ont été perdus : {missing_city_codes}\")\n",
    "else:\n",
    "    print(\"Aucun CityCode n'a été perdu.\")\n"
   ]
  },
  {
   "cell_type": "code",
   "execution_count": 10,
   "metadata": {},
   "outputs": [
    {
     "name": "stdout",
     "output_type": "stream",
     "text": [
      "<bound method NDFrame.head of        CityCode CountryCode CityLanguageCode        CityName\n",
      "4           AAA          PF               EN            Anaa\n",
      "17          AAB          AU               EN        Arrabury\n",
      "28          AAC          EG               EN        El Arish\n",
      "32          AAD          SO               EN           Adado\n",
      "37          AAE          DZ               EN          Annaba\n",
      "...         ...         ...              ...             ...\n",
      "101227      ZZO          RU               EN       Zonalnoye\n",
      "101228      ZZP          RS               EN       Pozarevac\n",
      "101229      ZZQ          CN               EN  Cheung Sha Wan\n",
      "101234      ZZU          MW               EN           Mzuzu\n",
      "101247      ZZV          US               EN      Zanesville\n",
      "\n",
      "[10756 rows x 4 columns]>\n"
     ]
    }
   ],
   "source": [
    "# Renomme les colonnes\n",
    "df_cities_en = df_cities_en.rename(columns={'Name': 'CityName'})\n",
    "df_cities_en = df_cities_en.rename(columns={'LanguageCode': 'CityLanguageCode'})\n",
    "print(df_cities_en.head)\n"
   ]
  },
  {
   "cell_type": "code",
   "execution_count": 11,
   "metadata": {},
   "outputs": [
    {
     "name": "stdout",
     "output_type": "stream",
     "text": [
      "Tous les CountryCodes de Cities sont présents dans Countries.\n",
      "Les CountryCodes suivants sont dans Countries mais pas dans Cities : {'PN', 'HK', 'SM', 'MO'}\n"
     ]
    }
   ],
   "source": [
    "# Vérifier que tous les CountryCode de Cities sont dans Countries et inversement\n",
    "missing_in_countries = set(df_cities_en['CountryCode']) - set(df_countries_en['CountryCode'])\n",
    "missing_in_cities = set(df_countries_en['CountryCode']) - set(df_cities_en['CountryCode'])\n",
    "\n",
    "# Afficher les résultats\n",
    "if missing_in_countries:\n",
    "    print(f\"Les CountryCodes suivants sont dans Cities mais pas dans Countries : {missing_in_countries}\")\n",
    "else:\n",
    "    print(\"Tous les CountryCodes de Cities sont présents dans Countries.\")\n",
    "\n",
    "if missing_in_cities:\n",
    "    print(f\"Les CountryCodes suivants sont dans Countries mais pas dans Cities : {missing_in_cities}\")\n",
    "else:\n",
    "    print(\"Tous les CountryCodes de Countries sont présents dans Cities.\")\n"
   ]
  },
  {
   "cell_type": "code",
   "execution_count": 12,
   "metadata": {},
   "outputs": [
    {
     "name": "stdout",
     "output_type": "stream",
     "text": [
      "Tous les CityCodes sont associés à un seul CountryCode.\n"
     ]
    }
   ],
   "source": [
    "# Vérification que CityCode est une clé primaire\n",
    "# Compter la fréquence des CityCode dans Cities\n",
    "city_code_counts = df_cities_en.groupby('CityCode')['CountryCode'].nunique()\n",
    "\n",
    "# Vérifier si un CityCode est associé à plusieurs CountryCode\n",
    "non_unique_city_codes = city_code_counts[city_code_counts > 1]\n",
    "\n",
    "# Afficher les résultats\n",
    "if not non_unique_city_codes.empty:\n",
    "    print(f\"Les CityCodes suivants sont associés à plusieurs CountryCodes :\")\n",
    "    print(non_unique_city_codes)\n",
    "else:\n",
    "    print(\"Tous les CityCodes sont associés à un seul CountryCode.\")\n"
   ]
  },
  {
   "cell_type": "code",
   "execution_count": 14,
   "metadata": {},
   "outputs": [],
   "source": [
    "# airports data : from JSON to dataframe\n",
    "# Ouvrir le fichier JSON en mode lecture\n",
    "with open('/home/ubuntu/DST_Airlines/data/lufthansa/airports.json', 'r') as f:\n",
    "    airports = json.load(f)"
   ]
  },
  {
   "cell_type": "code",
   "execution_count": 15,
   "metadata": {},
   "outputs": [
    {
     "name": "stdout",
     "output_type": "stream",
     "text": [
      "      AirportCode CityCode CountryCode LanguageCode                  Name\n",
      "0             AAA      AAA          PF           BG                  Anaa\n",
      "1             AAA      AAA          PF           CS                  Anaa\n",
      "2             AAA      AAA          PF           DE                  Anaa\n",
      "3             AAA      AAA          PF           EN                  Anaa\n",
      "4             AAA      AAA          PF           ES                  Anaa\n",
      "...           ...      ...         ...          ...                   ...\n",
      "65378         ZZV      ZZV          US           EN  Zanesville Municipal\n",
      "65379         ZZV      ZZV          US           ES            Zanesville\n",
      "65380         ZZV      ZZV          US           FR            Zanesville\n",
      "65381         ZZV      ZZV          US           IT            Zanesville\n",
      "65382         ZZV      ZZV          US           TR            Zanesville\n",
      "\n",
      "[65383 rows x 5 columns]\n"
     ]
    }
   ],
   "source": [
    "# Liste pour stocker les données sous forme de tuples (AirportCode,CityCode,CountryCode, LanguageCode, Name)\n",
    "records = []\n",
    "index=0\n",
    "\n",
    "# Parcours du JSON pour extraire les informations pertinentes\n",
    "for airport in airports:\n",
    "    index +=1\n",
    "    country_code = airport[\"CountryCode\"]\n",
    "    city_code = airport[\"CityCode\"]\n",
    "    airport_code = airport[\"AirportCode\"]\n",
    "\n",
    "    # Vérifier si 'Names' existe et si c'est une liste ou un dictionnaire\n",
    "    if \"Names\" in airport:\n",
    "        names = airport[\"Names\"]\n",
    "        \n",
    "        # Si 'Names' est un dictionnaire avec une clé \"Name\"\n",
    "        if isinstance(names, dict) and \"Name\" in names:\n",
    "            name_info = names[\"Name\"]\n",
    "            # Si 'Name' est une liste, traiter comme une liste normale\n",
    "            if isinstance(name_info, list):\n",
    "                for name_item in name_info:\n",
    "                    language_code = name_item.get(\"@LanguageCode\", \"\")\n",
    "                    name = name_item.get(\"$\", \"\")\n",
    "                    records.append((airport_code,city_code,country_code, language_code, name))\n",
    "            # Si 'Name' est un dictionnaire (cas particulier)\n",
    "            elif isinstance(name_info, dict):\n",
    "                language_code = name_info.get(\"@LanguageCode\", \"\")\n",
    "                name = name_info.get(\"$\", \"\")\n",
    "                records.append((airport_code,city_code,country_code, language_code, name))\n",
    "            \n",
    "            else:\n",
    "                print(\"Name isn't a dict or a list for airportcode\",airport_code,\"index\",index)\n",
    "        \n",
    "        # Si \"Names\" est déjà une liste\n",
    "        elif isinstance(names, list):\n",
    "            for name_info in names:\n",
    "                # Vérification que 'name_info' est bien un dictionnaire\n",
    "                if isinstance(name_info, dict):\n",
    "                    language_code = name_info.get(\"@LanguageCode\", \"\")\n",
    "                    name = name_info.get(\"$\", \"\")\n",
    "                    records.append((airport_code,city_code,country_code, language_code, name))\n",
    "                else:\n",
    "                    print(\"name_info isn't a dict for airportcode\",airport_code,\"index\",index)\n",
    "\n",
    "        else :\n",
    "            print(\"Names isn't a dict or a list for airportcode\",airport_code,\"index\",index)\n",
    "\n",
    "    else:\n",
    "        print(\"Names not in airport for\",airport_code,\"index\",index)\n",
    "\n",
    "# Créer un DataFrame avec les données extraites\n",
    "df_airports = pd.DataFrame(records, columns=[\"AirportCode\",\"CityCode\",\"CountryCode\", \"LanguageCode\", \"Name\"])\n",
    "\n",
    "# Afficher le DataFrame\n",
    "print(df_airports)\n"
   ]
  },
  {
   "cell_type": "code",
   "execution_count": 16,
   "metadata": {},
   "outputs": [
    {
     "name": "stdout",
     "output_type": "stream",
     "text": [
      "Aucun AirportCode n'a été perdu.\n"
     ]
    }
   ],
   "source": [
    "# Filtre pour ne garder que les Names en anglais\n",
    "df_airports_en = df_airports[df_airports['LanguageCode'] == 'EN']\n",
    "\n",
    "# Vérifier qu'aucun AirportCode n'a été perdu\n",
    "airport_codes_all = df_airports['AirportCode'].unique()\n",
    "airport_codes_en = df_airports['AirportCode'].unique()\n",
    "\n",
    "# Vérifier si des AirportCodes ont été perdus\n",
    "missing_airport_codes = set(airport_codes_all) - set(airport_codes_en)\n",
    "if missing_airport_codes:\n",
    "    print(f\"Les AirportCodes suivants ont été perdus : {missing_airport_codes}\")\n",
    "else:\n",
    "    print(\"Aucun AirportCode n'a été perdu.\")\n"
   ]
  },
  {
   "cell_type": "code",
   "execution_count": 17,
   "metadata": {},
   "outputs": [
    {
     "name": "stdout",
     "output_type": "stream",
     "text": [
      "<bound method NDFrame.head of       AirportCode CityCode CountryCode AirportLanguageCode  \\\n",
      "3             AAA      AAA          PF                  EN   \n",
      "12            AAB      AAB          AU                  EN   \n",
      "15            AAC      AAC          EG                  EN   \n",
      "20            AAD      AAD          SO                  EN   \n",
      "23            AAE      AAE          DZ                  EN   \n",
      "...           ...      ...         ...                 ...   \n",
      "65366         ZZJ      ZZJ          AU                  EN   \n",
      "65367         ZZO      ZZO          RU                  EN   \n",
      "65368         ZZQ      ZZQ          CN                  EN   \n",
      "65371         ZZU      ZZU          MW                  EN   \n",
      "65378         ZZV      ZZV          US                  EN   \n",
      "\n",
      "                         AirportName  \n",
      "3                               Anaa  \n",
      "12                  Arrabury Airport  \n",
      "15            El Arish International  \n",
      "20                     Adado Airport  \n",
      "23                Annaba Rabah Bitat  \n",
      "...                              ...  \n",
      "65366   Mystery Night Off-Line Point  \n",
      "65367                      Zonalnoye  \n",
      "65368  Cheung Sha Wan Off-Line Point  \n",
      "65371                          Mzuzu  \n",
      "65378           Zanesville Municipal  \n",
      "\n",
      "[9796 rows x 5 columns]>\n"
     ]
    }
   ],
   "source": [
    "# Renomme les colonnes\n",
    "df_airports_en = df_airports_en.rename(columns={'Name': 'AirportName'})\n",
    "df_airports_en = df_airports_en.rename(columns={'LanguageCode': 'AirportLanguageCode'})\n",
    "print(df_airports_en.head)\n"
   ]
  },
  {
   "cell_type": "code",
   "execution_count": 18,
   "metadata": {},
   "outputs": [
    {
     "name": "stdout",
     "output_type": "stream",
     "text": [
      "Tous les CountryCodes de Airports sont présents dans Countries.\n",
      "Les CountryCodes suivants sont dans Countries mais pas dans Airports : {'LI', 'AQ', 'NU', 'CW', 'PN', 'MO', 'SM', 'HK', 'SX', 'PW'}\n",
      "Tous les CityCodes de Airports sont présents dans Cities.\n",
      "Les CityCodes suivants sont dans Cities mais pas dans Airports : {'ZJD', 'WNC', 'TVS', 'CGA', 'GVP', 'ZMX', 'XWN', 'HTI', 'QKN', 'PMZ', 'YQL', 'XBF', 'LXA', 'LGQ', 'GUS', 'CUO', 'QXQ', 'PMU', 'GSQ', 'QXD', 'JNJ', 'GWE', 'MYQ', 'WMB', 'XUW', 'WSU', 'QQH', 'QTP', 'XAJ', 'RSY', 'XWX', 'HQQ', 'WOR', 'XGQ', 'XCD', 'XWP', 'ZSU', 'QIJ', 'ZFP', 'HWO', 'QNQ', 'ZWY', 'JUH', 'CGB', 'XEP', 'XWD', 'TUY', 'QAQ', 'WMX', 'LEB', 'WNR', 'ZMZ', 'XXA', 'CEZ', 'ZYJ', 'XSM', 'WPS', 'HUY', 'LBI', 'XAB', 'KVS', 'QVH', 'XED', 'TEZ', 'HUE', 'QBT', 'PNC', 'ZXX', 'CTY', 'SAG', 'ZPJ', 'ZJS', 'LCG', 'WON', 'QDI', 'QXZ', 'QEX', 'LAZ', 'HZI', 'IKE', 'PGV', 'ZXR', 'ZOV', 'XYY', 'XOQ', 'XXC', 'QJW', 'QZH', 'GTY', 'CDN', 'QLY', 'QIE', 'ZXN', 'CUE', 'ZZL', 'ZQD', 'QXB', 'XKP', 'DGD', 'LBW', 'WRO', 'HEW', 'QPL', 'GWO', 'XBK', 'XYO', 'TCO', 'XNK', 'GUW', 'QST', 'ROR', 'QJR', 'CVM', 'ZGK', 'QBO', 'QYJ', 'ZNZ', 'DCP', 'CUU', 'ZAP', 'JCU', 'WRW', 'XOU', 'QME', 'WNS', 'ZEZ', 'TTU', 'XAQ', 'LCC', 'PXU', 'TNO', 'QYX', 'ZQF', 'TUR', 'TBU', 'GWD', 'PYM', 'XXO', 'DFP', 'SXM', 'QYO', 'GUD', 'PNF', 'HQL', 'MZW', 'ZMO', 'OSN', 'XLN', 'CEL', 'ZZP', 'CFA', 'JYQ', 'QYQ', 'IJK', 'CFH', 'QVM', 'PXO', 'VNT', 'ZWG', 'ZXJ', 'AEN', 'PND', 'QLK', 'XPV', 'XRC', 'QMW', 'XDR', 'QNM', 'LYG', 'QVO', 'QBG', 'PVC', 'XSG', 'DFI', 'QRB', 'LCQ', 'SCR', 'UFM', 'XKE', 'JJG', 'HVB', 'QBM', 'RCH', 'ZKX', 'HTO', 'RIS', 'CEO', 'JUZ', 'QVX', 'PYV', 'XLH', 'WTP', 'LCO', 'QVF', 'XJX', 'SHP', 'CVB', 'XLL', 'LBX', 'GUH', 'SLV', 'DHG', 'LCE', 'XVP', 'SRG', 'QKI', 'WGN', 'XSL', 'WRY', 'CVQ', 'QVA', 'QDH', 'TUQ', 'LCR', 'XBV', 'XCS', 'GOX', 'XBA', 'ZBT', 'RRN', 'IES', 'ZGO', 'XXR', 'XTS', 'JTY', 'OBT', 'CTQ', 'CNN', 'QIL', 'PXG', 'XAT', 'DHA', 'ZYG', 'QUW', 'VDO', 'ZRY', 'LBO', 'ZDK', 'XHA', 'IIS', 'GSR', 'WOO', 'DCR', 'WMT', 'CFP', 'EAG', 'WME', 'OVO', 'XXN', 'XND', 'PAI', 'XXU', 'XCC', 'CDK', 'GUI', 'CEN', 'DGT', 'XBD', 'WMO', 'GVR', 'CUZ', 'DFA', 'YHJ', 'XMR', 'CUK', 'WMC', 'NMI', 'XMK', 'ZHJ', 'SGU', 'CWF', 'XFU', 'XGI', 'XVB', 'XHF', 'HHO', 'QEP', 'TGK', 'ZKC', 'QDZ', 'CEC', 'LBF', 'XJR', 'HSP', 'VRI', 'QZD', 'ZYI', 'DEX', 'XLF', 'PYE', 'TDS', 'JZH', 'ZHN', 'ZNI', 'ZDZ', 'LCM', 'HTS', 'WUK', 'MWX', 'ZHG', 'XMZ', 'ZLD', 'HUS', 'QPT', 'QKK', 'QBP', 'DEP', 'BAF', 'ZPL', 'XVE', 'YLV', 'MQQ', 'CUG', 'ZIE', 'CEJ', 'LRS', 'ZIB', 'TTM', 'QZI', 'ZAF', 'ZWN', 'GVW', 'QEZ', 'QUE', 'QFL', 'TTB', 'WML', 'ZOU', 'XYM', 'GVE', 'QPD', 'XSX', 'ZOA', 'QVL', 'ZFH', 'RHI', 'XUO', 'JNX', 'DCG', 'GSU', 'CER', 'PMI', 'QLC', 'XEZ', 'MTJ', 'LBY', 'CTM', 'HUO', 'BMW', 'LCL', 'XUJ', 'QRS', 'NDO', 'ZGN', 'GVT', 'XXE', 'OPQ', 'YVH', 'CVF', 'QUX', 'LCJ', 'TTV', 'PYH', 'PXL', 'RMU', 'XPI', 'QND', 'KOW', 'QCS', 'NTK', 'CEV', 'ZAN', 'XKG', 'QON', 'ZDX', 'PXS', 'QYK', 'QNL', 'CWR', 'XUI', 'UER', 'ZOZ', 'XAP', 'DDU', 'ENG', 'WOT', 'XKF', 'TWF', 'TTO', 'UTS', 'YQU', 'XXD', 'WUA', 'HOV', 'PXM', 'LGJ', 'ZXQ', 'ZUF', 'ZAK', 'TXK', 'YAP', 'LCD', 'DEI', 'IXT', 'ACF', 'XUR', 'XRS', 'TUU', 'XUE', 'CUC', 'XTP', 'BOR', 'QHQ', 'ZJZ', 'SZD', 'WUB', 'TTL', 'MME', 'XYN', 'ZQA', 'DGE', 'ZOO', 'ZXK', 'PYC', 'TUZ', 'ZOG', 'XRA', 'QFH', 'PFM', 'ZLE', 'DES', 'PGA', 'CEX', 'DEO', 'GTE', 'XVH', 'PHD', 'HYA', 'QMG', 'SVD', 'UBW', 'QZG', 'NDC', 'IUE', 'QAZ', 'WTE', 'TJJ', 'QAG', 'ZDD', 'XMT', 'GWT', 'XPB', 'HVZ', 'XCQ', 'QRT', 'YVK', 'ZHV', 'RNW', 'XYF', 'XMM', 'WOG', 'MGW', 'HVS', 'WNI', 'JEA', 'QXC', 'CTP', 'WSD', 'WOW', 'NPD', 'WOL', 'VVZ', 'TSZ', 'IHO', 'QRG', 'HTZ', 'MZR', 'QCM', 'QUD', 'QMO', 'ZSI', 'DEM', 'XTH', 'LZY', 'CDL', 'CEG', 'QOK', 'CEH', 'QOZ', 'QVQ', 'PAS', 'QWV', 'UKS', 'ZAV', 'QUN', 'XOO', 'XSK', 'ZNO', 'ZXD', 'ZOX', 'QZS', 'TTQ', 'CVR', 'TIR', 'QSO', 'QOB', 'CEE', 'HSQ', 'QIP', 'DHB', 'ZJQ', 'XTN', 'HTH', 'WLR', 'LBV', 'CTW', 'CUT', 'TTK', 'ZLM', 'QPN', 'QKG', 'TCZ', 'HSM', 'ZYV', 'DGC', 'YCU', 'XVK', 'PLS', 'GVN', 'QNS', 'ZHE', 'HTW', 'ZLC', 'LBM', 'QRI', 'XVS', 'NNR', 'ZES', 'KME', 'KBH', 'QKZ', 'HUB', 'YDD', 'DDR', 'SWK', 'SAI', 'REG', 'QAN', 'ZEQ', 'QFU', 'QUA', 'TQR', 'XMF', 'QWP', 'CVO', 'WMD', 'QWT', 'ZEY', 'QIM', 'OXR', 'ZTQ', 'XSZ', 'XBT', 'QYV', 'SCC', 'QWO', 'XCV', 'LCS', 'PYR', 'QYZ', 'PUQ', 'PYB', 'ZHD', 'ZZG', 'YIC', 'HTT', 'ZXM', 'JAU', 'DCK', 'WPA', 'ZKY', 'MAJ', 'PMS', 'HUN', 'MPE', 'YQQ', 'ZNW', 'WRI', 'NSR', 'ZTL', 'DCM', 'QXE', 'QSH', 'PNL', 'HVR', 'XXP', 'LMV', 'GUQ', 'ZPV', 'SZO', 'CDJ', 'QPC', 'LCI', 'DGU', 'YXH', 'HTF', 'QWL', 'QIO', 'HTR', 'CWW', 'GHA', 'QUV', 'WOD', 'LBS', 'KDF', 'XCK', 'LAV', 'XSU', 'WSF', 'ZYC', 'WPB', 'ZXY', 'EBH', 'CWG', 'XNO', 'QNO', 'XMQ', 'IMP', 'OZU', 'ZDQ', 'CVE', 'DGF', 'TNH', 'ZMW', 'QMR', 'LAY', 'QVN', 'ZXC', 'ZBJ', 'CWX', 'PMO', 'MCW', 'HSN', 'CVJ', 'XWZ', 'XXW', 'CFT', 'ZDE', 'HRD', 'ZLL', 'DGH', 'ONJ', 'XTK', 'PKB', 'QUM', 'TUC', 'QJV', 'QSS', 'QLZ', 'XPM', 'XVR', 'CWK', 'XJO', 'RDO', 'HLH', 'QPR', 'JMS', 'SEU', 'XXI', 'HUM', 'MPH', 'CUQ', 'HWN', 'LBL', 'ZIL', 'SPN', 'ZJV', 'XGT', 'XOA', 'GIJ', 'QEH', 'PVH', 'ZAB', 'XRX', 'ZJI', 'SHF', 'CUJ', 'TUA', 'SKB', 'VNZ', 'QLI', 'ZKV', 'HSS', 'DDG', 'WRT', 'KWI', 'CDZ', 'HVA', 'ZQV', 'XWI', 'ZIR', 'QXV', 'NSX', 'CGI', 'ZMR', 'QOX', 'ZJJ', 'CWS', 'GTG', 'XWO', 'GUL', 'VWB', 'ROP', 'XRI', 'ZKW', 'OCD', 'ZVD', 'DCN', 'YKA', 'QBZ', 'MUM', 'XPF', 'YWL', 'ONO', 'GTA', 'XKC', 'ZOJ', 'TTW', 'OZL', 'TMS', 'ZXL', 'LZO', 'XQD', 'DJG', 'QQD', 'XOB', 'YYD', 'QFK', 'XME', 'PNY', 'QGL', 'CED', 'JAW', 'ZLF', 'MPN', 'YZF', 'GTP', 'JIX', 'ZJA', 'ZBG', 'LBJ', 'XVO', 'QQY', 'QFD', 'ZLV', 'WSM', 'QVP', 'TWC', 'PYY', 'QKJ', 'OVI', 'QTK', 'CZV', 'ZXO', 'PYG', 'QPO', 'TUJ', 'CUN', 'HVG', 'JDO', 'QEV', 'GMD', 'QOP', 'PNH', 'WFD', 'OLT', 'XAM', 'HSV', 'QKB', 'HUK', 'LNL', 'QIZ', 'HVE', 'CDO', 'XDI', 'XWM', 'TXC', 'CXC', 'TTS', 'GSS', 'QXJ', 'QDA', 'QMU', 'XPY', 'TSY', 'WTR', 'ZHI', 'CTN', 'PMM', 'PBA', 'ZCS', 'RTK', 'QPK', 'ZIP', 'QTX', 'XRV', 'PMK', 'GOH', 'TMR', 'DDC', 'QWJ', 'QKF', 'HUW', 'SMW', 'QLG', 'QHA', 'ZDP', 'ZGV', 'BFW', 'ZTK', 'CUI', 'ZKK', 'LCB', 'XLD', 'TUK', 'URD', 'QUZ', 'QWS', 'TID', 'ZCV', 'XTE', 'XVG', 'HSG', 'ZXF', 'DDP', 'QXH', 'SGS', 'XRM', 'MNC', 'QLA', 'QUJ', 'NBC', 'QGY', 'PXR', 'XST', 'XBP', 'PZI', 'QXI', 'XRU', 'TUV', 'OMR', 'XPL', 'DEL', 'PYS', 'WSR', 'WNZ', 'ZIA', 'DDI', 'XCG', 'ZSQ', 'ZJM', 'DGG', 'KHL', 'IHU', 'VIF', 'QSV', 'LBK', 'ZWD', 'XUL', 'ZGQ', 'XKI', 'QLH', 'WRH', 'WPK', 'TUP', 'ZHW', 'ZFK', 'QYP', 'ZWK', 'QBV', 'XBI', 'ZKU', 'CDI', 'LFQ', 'XJA', 'TFC', 'ZGA', 'YLW', 'WSK', 'ZXH', 'XEB', 'HME', 'GXH', 'ZCI', 'IJU', 'CWC', 'XAS', 'ZSD', 'XQL', 'QBY', 'QMZ', 'OMO', 'GSO', 'XVM', 'UWC', 'XKB', 'XKU', 'QLP', 'GUJ', 'QZK', 'ZHH', 'MVY', 'ZLA', 'QEQ', 'QDD', 'ZOT', 'KUU', 'XSQ', 'XNR', 'QDJ', 'OZH', 'OFK', 'QVK', 'QWU', 'PUM', 'QYD', 'ZEI', 'ZDR', 'CGJ', 'PCW', 'YYF', 'QVJ', 'QPA', 'DER', 'XKD', 'GTK', 'QLT', 'LCF', 'GUU', 'ZQC', 'QHU', 'XUQ', 'XSN', 'WSQ', 'PNI', 'DBL', 'QOU', 'KZG', 'XSV', 'DEH', 'XLG', 'XYX', 'QMH', 'XVT', 'CFE', 'ZYD', 'ZFI', 'ZPA', 'XSF', 'ZMA', 'GUE', 'ZCZ', 'GHV', 'QUC', 'NST', 'WRN', 'IJX', 'XGL', 'XCU', 'TVA', 'XXV', 'QVG', 'PRC', 'ZYW', 'JKL', 'ZDW', 'BCJ', 'KIV', 'XYP', 'ZGP', 'QVY', 'ZAT', 'LBQ', 'XHT', 'MTR', 'XBQ', 'QWN', 'QCZ', 'LCH', 'XBS', 'HUH', 'CFO', 'QYI', 'CWL', 'QYL', 'ZHB', 'XRN', 'QFO', 'QIN', 'QLN', 'QVE', 'CFN', 'XSY', 'PMT', 'ZJU', 'GWL', 'XZM', 'ZRE', 'QWK', 'WRE', 'QDT', 'DDM', 'WSY', 'NNE', 'XVJ', 'XUU', 'ZWM', 'HUJ', 'WRL', 'QNU', 'WTS', 'GUG', 'WRZ', 'QYT', 'XCT', 'ZKT', 'QAY', 'YIN', 'IIL', 'CDY', 'XKJ', 'WSZ', 'CGG', 'WRG', 'YMM', 'XVC', 'XMW', 'XNV', 'PMY', 'XLI', 'HYS', 'QZR', 'HWA', 'TUG', 'ISU', 'XGM', 'XVX', 'XKN', 'CXF', 'ZZD', 'XSS', 'MGF', 'QYC', 'XHL', 'QTI', 'QJS', 'ZTU', 'KZS', 'QRL', 'ZJE', 'QXF', 'XQT', 'TTC', 'MWW', 'QWD', 'DGW', 'QWQ', 'QVZ', 'GWN', 'XTU', 'NVA', 'CEQ', 'GUY', 'WSE', 'VLY', 'ZOW', 'HTL', 'QDG', 'XPS', 'RLK', 'ZDG', 'ZDS', 'DEZ', 'BFB', 'HSR', 'QYM', 'PMN', 'PNK', 'WSH', 'ZIQ', 'LBD', 'HUG', 'NZH', 'XYW', 'HUX', 'XGV', 'WYS', 'XBM', 'LOO', 'GWS', 'TAJ', 'CFK', 'WSG', 'QUS', 'URA', 'ELU', 'PZC', 'CUW', 'ZOB', 'XMU', 'QVR', 'GVI', 'ZHR', 'KCY', 'WOS', 'XOW', 'TUW', 'CFG', 'CDS', 'ZCT', 'TUE', 'OUQ', 'XMO', 'PYJ', 'JSJ', 'WLP', 'XBU', 'XSW', 'ZHK', 'TTR', 'PYO', 'MMH', 'GTW', 'CWI', 'ZZH', 'OGS', 'HUF', 'WTT', 'LZG', 'GSY', 'WNA', 'PYN', 'HTB', 'QTJ', 'XGF', 'XMB', 'CFV', 'CUL', 'XVD', 'LBP', 'QVI', 'XTC', 'ZIT', 'WPC', 'XRT', 'XTZ', 'CLY', 'XAC', 'DLD', 'LMK', 'XGD', 'HVD', 'CVC', 'XZY', 'TTA', 'CUH', 'LCN', 'QUO', 'DEA', 'ZJX', 'TTT', 'ZHA', 'XVN', 'TTX', 'ZPI', 'TUO', 'QBI', 'GUV', 'KLH', 'QGM', 'XUY', 'HTM', 'PAP', 'CXA', 'XDA', 'WPM', 'QUU', 'XXK', 'GUF', 'XLA', 'ZNB', 'XPW', 'XXM', 'KOQ', 'CEK', 'QOY', 'PMV', 'WRA', 'WLS', 'XWV', 'GXG', 'TTY', 'WLO', 'LBR', 'ZDA', 'ZXS', 'QYH', 'XOY', 'XHU', 'CGD', 'QUH', 'QYR', 'XOD', 'DDD', 'KRL', 'ZPP', 'QUP', 'CTO', 'CDU', 'NBJ', 'PAH', 'KRH', 'BIG', 'ZEW', 'CWP', 'XGP', 'DEB', 'QSM', 'QHJ', 'XXT', 'PUW', 'XUC', 'ZKA', 'DCY', 'KVD', 'GUC', 'ZET', 'PNG', 'ZGX', 'MQV', 'XVW', 'SCJ', 'QHH', 'QGE', 'ZEE', 'DGB', 'QTC', 'PML', 'JLL', 'XDC', 'ROZ', 'LUM', 'VXE', 'CEY', 'QFC', 'WNU', 'QYA', 'CVH', 'ZXI', 'ZRN', 'ZBX', 'WMR', 'XGS', 'WMK', 'TUM', 'LUH', 'JQF', 'IXP', 'OCC', 'VQS', 'ZCG', 'LAR', 'QZO', 'ZGE', 'WOA', 'KDH', 'SHD', 'WSJ', 'YXT', 'XNJ', 'QVS', 'ZLJ', 'XWE', 'PYT', 'QBA', 'HUT', 'WTL', 'QYG', 'TNM', 'QBQ', 'ZYY', 'QLD', 'QGO', 'CTX', 'PEM', 'CUM', 'HVK', 'XXG', 'QUR', 'ZXP', 'WPU', 'HUV', 'RUT', 'DGO', 'ZNJ', 'LPF', 'CDP', 'ZKR', 'DGN', 'HST', 'IKB', 'LCP', 'XAN', 'IHR', 'QXW', 'XBY', 'XAV', 'QAL', 'WSO', 'ZIJ', 'QEI', 'VUP', 'QHZ', 'HWK', 'XLE', 'XHI', 'XMJ', 'CVU', 'QBJ', 'LBN', 'GUZ', 'XKM', 'HTU', 'DEF', 'GVL', 'CUA', 'HUL', 'QVD', 'ZYM', 'ZPQ', 'TSW', 'DCU', 'XCF', 'PMX', 'HSL', 'QIC', 'PXH', 'XLX', 'ZKQ', 'XTB', 'DEC', 'LLK', 'VLE', 'BKN', 'TQO', 'CUF', 'XJZ', 'ZMC', 'WTO', 'DCT', 'XBC', 'HWI', 'TSV', 'QQX', 'WHN', 'LDG', 'CFR', 'TSX', 'CUV', 'XGC', 'XRD', 'DGR', 'DGP', 'PCI', 'CVN', 'CTZ', 'RRA', 'ZWT', 'XWQ', 'QWW', 'QYB', 'RZV', 'XHD', 'QRQ', 'SKT', 'HTY', 'ZWR', 'XKZ', 'QVW', 'QVT', 'WTA', 'SQW', 'ZDO', 'PMQ', 'WOK', 'GUB', 'QEF', 'QYN', 'USX', 'GTO', 'YCG', 'QPZ', 'CSW', 'HTA', 'JRH', 'PEF', 'GVX', 'ZOD', 'JSH', 'SPU', 'XLT', 'XLR', 'LGO', 'LWG', 'GTT', 'PFE', 'XWB', 'TTI', 'ZLI', 'QZF', 'XRE', 'SMX', 'CEM', 'CYD', 'GWA', 'GTI', 'CFS', 'PEJ', 'QUL', 'WMP', 'YVS', 'GUP', 'XNE', 'XOG', 'CWT', 'KWA', 'WSB', 'XOR', 'PNB', 'XGU', 'QQR', 'HRT', 'KSA', 'XCP', 'GTZ', 'UGL', 'CGE', 'HTV', 'QIF', 'FZL', 'XUZ', 'ZQH', 'KXN', 'XGH', 'LCA', 'CEU', 'XKW', 'DHD', 'XVZ', 'TVC', 'QII', 'CFQ', 'YXC', 'DGA', 'TEJ', 'XHY', 'CEB', 'MHK', 'QPB', 'QEA', 'WOE', 'CTR', 'ZPD', 'PSG', 'ZBH', 'QFR', 'ZQG', 'XPT', 'VDC', 'CEI', 'XYC', 'VEL', 'WSP', 'ZHL', 'MBX', 'QBH', 'SDW', 'PXA', 'DGK', 'ZKJ', 'XIL', 'PNJ', 'ITH', 'ZOM', 'XCZ', 'XTT', 'HUU', 'OZI', 'TUT', 'QAD', 'XCE', 'VKV', 'WND', 'STS', 'XUX', 'HSZ', 'XUS', 'WPO', 'XFX', 'QIU', 'QLF', 'XYI', 'YZP', 'QSA', 'ZHQ', 'XBH', 'CUR', 'GNH', 'QOG', 'PMP', 'QCI', 'HVM', 'GUO', 'QXP', 'XAH', 'ZNK', 'WSA', 'CFD', 'QGN', 'WNP', 'PAE', 'CXB', 'TBN', 'YSQ', 'LMJ', 'TMU', 'ZIW', 'TUN', 'ZXG', 'HUD', 'MCK', 'XOH', 'YXX', 'WMH', 'ZDB', 'RDP', 'SSU', 'JGB', 'CES', 'XKK', 'JCO', 'WMA', 'QUG', 'GBI', 'VBR', 'ZWZ', 'LBE', 'CGC', 'IIA', 'ZHY', 'MZJ', 'QAM', 'BZS', 'XUM', 'PMW', 'ZKS', 'LIU', 'BYV', 'WNE', 'XNX', 'IXL', 'TUD', 'ZNF', 'ZKI', 'XBX', 'ZVB', 'QAO', 'UZC', 'ZDC', 'NTQ', 'XZD', 'ZGW', 'HUZ', 'DDN', 'GDB', 'CUS', 'YYC', 'QUI', 'VDA', 'JIK', 'KRK', 'YTM', 'QZP', 'CDR', 'CDW', 'ZEJ', 'XHQ', 'ZJL', 'GWV', 'SWO', 'TUX', 'CUP', 'QVB', 'QZB', 'QED', 'TTH', 'XUV', 'GUR', 'XRG', 'TUI', 'QAI', 'WPR', 'HKM', 'ZXU', 'HUI', 'ISK', 'CWJ', 'QOS', 'ZLH', 'ZKF', 'XVA', 'ZHU', 'WNN', 'TTE', 'DED', 'XQB', 'DEE', 'WOI', 'XJK', 'CFI', 'QFA', 'PYL', 'ZOI', 'TRP', 'QGD', 'OSF', 'CTT', 'YQZ', 'CDQ', 'XHC', 'LBU', 'XFB', 'ZYF', 'TSE', 'QRV', 'GTS', 'ZSG', 'XGX', 'WSN', 'QJL', 'REP', 'IBE', 'CTV', 'QEW', 'XRO', 'XSJ', 'ZYS', 'PHH', 'TUB', 'QZE', 'HUQ', 'XCW', 'QCY', 'ZPW', 'WNH', 'PFB', 'ZMQ', 'XSR', 'XCY', 'WLW', 'JRG', 'HWD', 'ZJY', 'XFH', 'QXK', 'JAE', 'YEV', 'XUB', 'NHR', 'KHE', 'ZYO', 'DJX', 'QLX', 'XQM', 'XUG', 'RGL', 'XEX', 'QNJ', 'QYY', 'ZSO', 'BZF', 'CUD', 'XUH', 'JPA', 'PNT', 'QCL', 'DEY', 'JLN', 'TTJ', 'GTB', 'PYX', 'WMN', 'MBI', 'QLR', 'GWY', 'IIN', 'QWR', 'XQS', 'LBZ', 'QUY', 'ZZA', 'GUA', 'SHR', 'QUT', 'WMI', 'TTG', 'XCX', 'QLM', 'CFU', 'GXF', 'HTG', 'ZBE', 'ZJW', 'ZJC', 'WMV', 'CVL', 'ZGT', 'RKD', 'XEW', 'ZSN', 'WEH', 'XYU', 'HTN', 'GUT', 'WST', 'QSF', 'ZCB', 'GTC', 'XUF', 'TRI', 'PYA', 'LBC', 'TKK', 'CVT', 'CTL', 'WSS', 'ILD', 'REB', 'CFF', 'WTD', 'CVI', 'XDK', 'GUX', 'XCB', 'MZL', 'XOL', 'CEP', 'QZU', 'OAJ', 'WSX', 'IXI', 'XWS', 'CFC', 'CET', 'ZWJ', 'MGQ', 'QAE', 'WTK', 'XXL', 'CDM', 'QVV', 'XKQ', 'XOI', 'YGI', 'WTN', 'QVC', 'HSK', 'QFQ', 'ACQ', 'CUY', 'QPM', 'QVU', 'XBZ', 'LBT', 'PMR'}\n"
     ]
    }
   ],
   "source": [
    "# Vérifier que tous les CountryCode de Airports sont dans Countries et inversement\n",
    "missing_in_countries = set(df_airports_en['CountryCode']) - set(df_countries_en['CountryCode'])\n",
    "missing_in_airports = set(df_countries_en['CountryCode']) - set(df_airports_en['CountryCode'])\n",
    "\n",
    "# Afficher les résultats\n",
    "if missing_in_countries:\n",
    "    print(f\"Les CountryCodes suivants sont dans Airports mais pas dans Countries : {missing_in_countries}\")\n",
    "else:\n",
    "    print(\"Tous les CountryCodes de Airports sont présents dans Countries.\")\n",
    "\n",
    "if missing_in_airports:\n",
    "    print(f\"Les CountryCodes suivants sont dans Countries mais pas dans Airports : {missing_in_airports}\")\n",
    "else:\n",
    "    print(\"Tous les CountryCodes de Countries sont présents dans Airports.\")\n",
    "\n",
    "\n",
    "# Vérifier que tous les CityCode de Airports sont dans Cities et inversement\n",
    "missing_in_cities = set(df_airports_en['CityCode']) - set(df_cities_en['CityCode'])\n",
    "missing_in_airports = set(df_cities_en['CityCode']) - set(df_airports_en['CityCode'])\n",
    "\n",
    "# Afficher les résultats\n",
    "if missing_in_cities:\n",
    "    print(f\"Les CityCodes suivants sont dans Airports mais pas dans Cities : {missing_in_cities}\")\n",
    "else:\n",
    "    print(\"Tous les CityCodes de Airports sont présents dans Cities.\")\n",
    "\n",
    "if missing_in_airports:\n",
    "    print(f\"Les CityCodes suivants sont dans Cities mais pas dans Airports : {missing_in_airports}\")\n",
    "else:\n",
    "    print(\"Tous les CitiCode de Cities sont présents dans Airports.\")\n"
   ]
  },
  {
   "cell_type": "code",
   "execution_count": 19,
   "metadata": {},
   "outputs": [
    {
     "name": "stdout",
     "output_type": "stream",
     "text": [
      "Tous les AirportCodes sont associés à un seul CountryCode.\n",
      "Tous les AirportCodes sont associés à un seul CityCode.\n"
     ]
    }
   ],
   "source": [
    "# Vérification que AirportCode est une clé primaire\n",
    "# Compter la fréquence des AirportCodes dans Airports : Country\n",
    "airport_code_counts = df_airports_en.groupby('AirportCode')['CountryCode'].nunique()\n",
    "\n",
    "# Vérifier si un AirportCode est associé à plusieurs CountryCode\n",
    "non_unique_airport_codes = airport_code_counts[airport_code_counts > 1]\n",
    "\n",
    "# Afficher les résultats\n",
    "if not non_unique_airport_codes.empty:\n",
    "    print(f\"Les AirportCodes suivants sont associés à plusieurs CountryCodes :\")\n",
    "    print(non_unique_airport_codes)\n",
    "else:\n",
    "    print(\"Tous les AirportCodes sont associés à un seul CountryCode.\")\n",
    "\n",
    "\n",
    "# Compter la fréquence des AirportCodes dans Airports : Cities\n",
    "airport_code_counts = df_airports_en.groupby('AirportCode')['CityCode'].nunique()\n",
    "\n",
    "# Vérifier si un AirportCode est associé à plusieurs CityCode\n",
    "non_unique_airport_codes = airport_code_counts[airport_code_counts > 1]\n",
    "\n",
    "# Afficher les résultats\n",
    "if not non_unique_airport_codes.empty:\n",
    "    print(f\"Les AirportCodes suivants sont associés à plusieurs CityCodes :\")\n",
    "    print(non_unique_airport_codes)\n",
    "else:\n",
    "    print(\"Tous les AirportCodes sont associés à un seul CityCode.\")\n"
   ]
  },
  {
   "cell_type": "code",
   "execution_count": null,
   "metadata": {},
   "outputs": [],
   "source": []
  },
  {
   "cell_type": "code",
   "execution_count": null,
   "metadata": {},
   "outputs": [],
   "source": []
  },
  {
   "cell_type": "code",
   "execution_count": null,
   "metadata": {},
   "outputs": [],
   "source": []
  },
  {
   "cell_type": "code",
   "execution_count": null,
   "metadata": {},
   "outputs": [],
   "source": []
  }
 ],
 "metadata": {
  "kernelspec": {
   "display_name": "mon_env",
   "language": "python",
   "name": "python3"
  },
  "language_info": {
   "codemirror_mode": {
    "name": "ipython",
    "version": 3
   },
   "file_extension": ".py",
   "mimetype": "text/x-python",
   "name": "python",
   "nbconvert_exporter": "python",
   "pygments_lexer": "ipython3",
   "version": "3.8.10"
  }
 },
 "nbformat": 4,
 "nbformat_minor": 2
}
